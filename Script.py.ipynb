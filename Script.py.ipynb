{
 "cells": [
  {
   "cell_type": "code",
   "execution_count": null,
   "metadata": {},
   "outputs": [],
   "source": [
    "from nile import get_distance, format_price, SHIPPING_PRICES\n",
    "from test import test_function\n",
    "\n",
    "# Define calculate_shipping_cost() here:\n",
    "def calculate_shipping_cost(from_coords, to_coords, shipping_type= \"Overnight\"):\n",
    "  from_lat, from_long = from_coords\n",
    "  to_lat, to_long = to_coords\n",
    "  distance = get_distance(*from_coords, *to_coords)\n",
    "  #print(SHIPPING_PRICES[shipping_type])\n",
    "  shipping_rate = SHIPPING_PRICES[shipping_type]\n",
    "  price = distance * shipping_rate\n",
    "  return format_price(price)\n",
    "  \n",
    "\n",
    "# Test the function by calling \n",
    "test_function(calculate_shipping_cost)\n",
    "\n",
    "# Define calculate_driver_cost() here\n",
    "def calculate_driver_cost(distance,*drivers):\n",
    "\n",
    "  cheapest_driver = None\n",
    "  cheapest_driver_price = None\n",
    "  \n",
    "  for driver in drivers:\n",
    "    driver_time = driver.speed * distance\n",
    "    price_for_driver = driver.salary * driver_time\n",
    "\n",
    "    if cheapest_driver is None:\n",
    "      cheapest_driver = driver\n",
    "      cheapest_driver_price = price_for_driver\n",
    "    elif price_for_driver < cheapest_driver_price: \n",
    "      cheapest_driver = driver\n",
    "      cheapest_driver_price = price_for_driver\n",
    "       \n",
    "  return cheapest_driver_price,cheapest_driver \n",
    "\n",
    "# Test the function by calling \n",
    "test_function(calculate_driver_cost)\n",
    "\n",
    "# Define calculate_money_made() here\n",
    "def calculate_money_made(**trips):\n",
    "  total_money_made = 0\n",
    "\n",
    "  for trip_id,trip in trips.items():\n",
    "    trip_revenue = trip.cost - trip.driver.cost\n",
    "    total_money_made += trip_revenue\n",
    "  \n",
    "  return total_money_made\n",
    "\n",
    "\n",
    "\n",
    "# Test the function by calling \n",
    "test_function(calculate_money_made)\n"
   ]
  }
 ],
 "metadata": {
  "kernelspec": {
   "display_name": "Python 3",
   "language": "python",
   "name": "python3"
  },
  "language_info": {
   "codemirror_mode": {
    "name": "ipython",
    "version": 3
   },
   "file_extension": ".py",
   "mimetype": "text/x-python",
   "name": "python",
   "nbconvert_exporter": "python",
   "pygments_lexer": "ipython3",
   "version": "3.8.5"
  }
 },
 "nbformat": 4,
 "nbformat_minor": 4
}
